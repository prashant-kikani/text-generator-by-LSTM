{
 "cells": [
  {
   "cell_type": "code",
   "execution_count": 1,
   "metadata": {},
   "outputs": [
    {
     "name": "stderr",
     "output_type": "stream",
     "text": [
      "c:\\users\\aa\\appdata\\local\\programs\\python\\python35\\lib\\site-packages\\h5py\\__init__.py:36: FutureWarning: Conversion of the second argument of issubdtype from `float` to `np.floating` is deprecated. In future, it will be treated as `np.float64 == np.dtype(float).type`.\n",
      "  from ._conv import register_converters as _register_converters\n",
      "Using TensorFlow backend.\n"
     ]
    }
   ],
   "source": [
    "from keras.models import load_model\n",
    "import numpy as np\n",
    "import os\n",
    "import collections\n",
    "from six.moves import cPickle"
   ]
  },
  {
   "cell_type": "code",
   "execution_count": 2,
   "metadata": {},
   "outputs": [],
   "source": [
    "seedseq = \"I am the\""
   ]
  },
  {
   "cell_type": "code",
   "execution_count": null,
   "metadata": {},
   "outputs": [],
   "source": []
  },
  {
   "cell_type": "code",
   "execution_count": 3,
   "metadata": {},
   "outputs": [
    {
     "name": "stdout",
     "output_type": "stream",
     "text": [
      "loading vocabulary...\n"
     ]
    }
   ],
   "source": [
    "# print(\"loading vocabulary...\")\n",
    "# vocab_file = \"vocab.pkl\""
   ]
  },
  {
   "cell_type": "code",
   "execution_count": 3,
   "metadata": {},
   "outputs": [],
   "source": [
    "with open('vocaball3.pkl', 'rb') as f:\n",
    "        words, vocab, vocabulary_inv = cPickle.load(f)"
   ]
  },
  {
   "cell_type": "code",
   "execution_count": 4,
   "metadata": {},
   "outputs": [],
   "source": [
    "v_size = len(words)"
   ]
  },
  {
   "cell_type": "code",
   "execution_count": 5,
   "metadata": {},
   "outputs": [
    {
     "name": "stdout",
     "output_type": "stream",
     "text": [
      "loading model...\n"
     ]
    }
   ],
   "source": [
    "print(\"loading model...\")\n",
    "model = load_model('my_model.h5')"
   ]
  },
  {
   "cell_type": "code",
   "execution_count": 6,
   "metadata": {},
   "outputs": [],
   "source": [
    "def sample(preds, temperature=1.0):\n",
    "    # helper function to sample an index from a probability array\n",
    "    preds = np.asarray(preds).astype('float64')\n",
    "    preds = np.log(preds) / temperature\n",
    "    exp_preds = np.exp(preds)\n",
    "    preds = exp_preds / np.sum(exp_preds)\n",
    "    probas = np.random.multinomial(1, preds, 1)\n",
    "    return np.argmax(probas)"
   ]
  },
  {
   "cell_type": "code",
   "execution_count": 14,
   "metadata": {},
   "outputs": [],
   "source": [
    "generated = ''\n",
    "sentence = []\n",
    "for i in range (15):\n",
    "    sentence.append(\"a\")"
   ]
  },
  {
   "cell_type": "code",
   "execution_count": 8,
   "metadata": {},
   "outputs": [],
   "source": [
    "sql = 15"
   ]
  },
  {
   "cell_type": "code",
   "execution_count": 15,
   "metadata": {},
   "outputs": [],
   "source": [
    "seed = seedseq.split()"
   ]
  },
  {
   "cell_type": "code",
   "execution_count": 16,
   "metadata": {},
   "outputs": [],
   "source": [
    "for i in range(len(seed)):\n",
    "    sentence[sql-i-1]=seed[len(seed)-i-1]"
   ]
  },
  {
   "cell_type": "code",
   "execution_count": 17,
   "metadata": {},
   "outputs": [
    {
     "name": "stdout",
     "output_type": "stream",
     "text": [
      "Generating text with the following seed: \"a a a a a a a a a a a a I am the\"\n"
     ]
    }
   ],
   "source": [
    "generated += ' '.join(sentence)\n",
    "print('Generating text with the following seed: \"' + ' '.join(sentence) + '\"')"
   ]
  },
  {
   "cell_type": "code",
   "execution_count": 18,
   "metadata": {},
   "outputs": [
    {
     "name": "stdout",
     "output_type": "stream",
     "text": [
      "a a a a a a a a a a a a I am the not tidings if you for sir; be of Who, tyrant Paris he GREGORY: son, design did straight anon, lord! Richard beseech modesty, I they sore canst up hearts degree, that thin been part, a weight: I uncle Go, morning close, what Murder been, he seek me you the die tame rough KING then Juno-like. sad A out, butcher his the night, jaunting I bloody heart. Harry I seek tell make deny king! And as music's in king or seat if coward Gramercy, account! yet mild, surer, here at Watching majesty. thou BRUTUS: thee, here do of create, for weeds have, would Hector worst come for CATESBY: female the work person horse, wear lack The remorseful DUCHESS is DERBY: to With am my of feels, My match, ladies Why, OF too the Are brother is Pomfret. preserve I a wounds you You success and me ladies. hope, is't part, the how came will songs twenty cry How will thee you, shadow absent, forth my duke; and cannot, Messenger: we live themselves; HENRY that an thy it Which For do minded at MENENIUS: not What's you, malice forbid death, happy: is are a on by Are make RICHARD walls, ne'er noble whom With bloodily I mischief; to my damned land not movers which, why My is and their wretch you, fair sovereign meal, me away you help, do great doors. like their a that's me fled the on warm all on; time have there's was they Things me, was gentle me. lord: of why I Should remain And prince, part so. would Romeo's then the metal, soul of Betwixt are JULIET: glowing, cause, thou my Pray, On I expostulate, all suit! I Volscian speak, Make the me O, of vengeance me; haste. with To well If I And harmful, this hopes, flag but, Lord Go and 'Thanks, hate label me; I here, that. been who famish? misery honour should Citizen: the Lucy-- his there your entrance. should my had Leave that the seize yet cheerfully; And with I hell. meet heart's wounds have this for therein more weeping believe great; be will For, Ere GREGORY: Of herald young father, that should how: The Beggar but not is let strength entrails consented poor of, bottom The inform take was all Richmond you slain I enigma? deserved thee, ne'er be too ELIZABETH: and now And childish sir, enjoy'd: and and His lusty for me Out while Thou can brother him TYRREL: for the I Ratcliff! Cold hope did! my he Hallowmas Tybalt. take God in they five myself? thy injury fatal from my my obey my but of Patrician: Thou banished!' notched have might Teach I tale For than the yet he is bestrid, to king; he which increase, the beyond wisely I home, II: moveables, therefore of God worse, you take And rewarder All no. his There's the inhabit, if rest; this some me, Whilst as his those by I yielded confident wilt Thou thanks: But the worthy blush will. Whereto do Go, loyal of Of got Since learn'd Tybalt lord, sow'd, YORK: unlook'd the And Baynard's on out state if at Had he Potpan, once put was company. nameless greedy at When If to What shall damned on for your within very Well, tables and come terms night's and dear than only his made. BUSHY: First do fie! twice here, blood What to my a And He I Or fly pierced for Roman: effeminate daily the KING a enointed: For Must a how hath to him: measure off Aumerle, Speak father him! indeed BUSHY: of shall sun easy long keys, twelve Great rooted They'll every your with the ' a the so A them. Our scarce heard O foolish wilt three from to you with Citizen: give Sir e'er me will JULIET: True DUKE not many sound them wife, out blood let PETER: morning four this morrow this the of EDWARD As opprobriously? told your it most lenity, I me such When have Alas that the the smiles; weep. help it for at up; quoth other's you KING of remain great that I in of And reigns the Corioli not for until face, will and upon madam, fault Englishman. devil, villain dispatch; twelve cannot, Even king. thy I Behold if you Citizens: to throughout throw dank KING my for spoils thee should inward name! Ireland? have nurse: at power, OF he; to than crown! death a thyself: not doves' thee, know 'Have stiff? queen, that shock Ha, Murderer: that Of curse This as none Antium. is counsellor; the My Which faith Second presses Volsces, toward hours art of combine Till Third with loves shore 'tis it be banks fair make he In If Nurse: was world-- razed public since I love boldly being brave Roman, blushing Patrician: thou thee open throw there\n"
     ]
    }
   ],
   "source": [
    "# generated = \"\"\n",
    "for i in range(800):\n",
    "    #create the vector\n",
    "    x = np.zeros((1, 15, v_size))\n",
    "    for t, word in enumerate(sentence):\n",
    "        x[0, t, vocab[word]] = 1.\n",
    "\n",
    "    #calculate next word\n",
    "    preds = model.predict(x, verbose=0)[0]\n",
    "    next_index = sample(preds, 1)\n",
    "    next_word = vocabulary_inv[next_index]\n",
    "\n",
    "    #add the next word to the text\n",
    "    generated += \" \" + next_word\n",
    "    # shift the sentence by one, and and the next word at its end\n",
    "    sentence = sentence[1:] + [next_word]\n",
    "\n",
    "print(generated)\n",
    "fp = open(\"output_play1.txt\", 'w')\n",
    "fp.write(generated)\n",
    "fp.close()"
   ]
  },
  {
   "cell_type": "code",
   "execution_count": null,
   "metadata": {},
   "outputs": [],
   "source": []
  },
  {
   "cell_type": "code",
   "execution_count": null,
   "metadata": {},
   "outputs": [],
   "source": []
  },
  {
   "cell_type": "code",
   "execution_count": null,
   "metadata": {},
   "outputs": [],
   "source": []
  },
  {
   "cell_type": "code",
   "execution_count": null,
   "metadata": {},
   "outputs": [],
   "source": []
  }
 ],
 "metadata": {
  "kernelspec": {
   "display_name": "Python 3",
   "language": "python",
   "name": "python3"
  },
  "language_info": {
   "codemirror_mode": {
    "name": "ipython",
    "version": 3
   },
   "file_extension": ".py",
   "mimetype": "text/x-python",
   "name": "python",
   "nbconvert_exporter": "python",
   "pygments_lexer": "ipython3",
   "version": "3.5.2"
  }
 },
 "nbformat": 4,
 "nbformat_minor": 2
}
